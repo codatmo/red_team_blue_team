{
 "cells": [
  {
   "cell_type": "code",
   "execution_count": 18,
   "id": "6d93b47e",
   "metadata": {},
   "outputs": [
    {
     "data": {
      "application/vnd.jupyter.widget-view+json": {
       "model_id": "4c977790dea341ce9ddc9e12d8cb56c2",
       "version_major": 2,
       "version_minor": 0
      },
      "text/plain": [
       "interactive(children=(IntSlider(value=200000000, description='n_pop', max=600000000, min=-200000000), IntSlide…"
      ]
     },
     "metadata": {},
     "output_type": "display_data"
    }
   ],
   "source": [
    "from plotnine import ggplot, geom_point, geom_line, aes, geom_label \n",
    "from ipywidgets import interact, interactive, fixed\n",
    "import ipywidgets as widgets\n",
    "import pandas as pd\n",
    "\n",
    "@interact(n_pop=200000000, n_days=300, print_daily=False, \n",
    "          beta_daily_inf_rate=widgets.FloatSlider(min=0.0, max=1, step=.01, value=.3),\n",
    "          n_patient_zero=10, \n",
    "          mean_days_infectuous=widgets.FloatSlider(min=0.0, max=30, step=1, value=10),\n",
    "          death_prob=widgets.FloatSlider(min=0.0, max=.2, step=.01, value=.02),\n",
    "          mean_days_to_death=10)\n",
    "def sirtd_exact_sim(n_pop, n_days, print_daily, beta_daily_inf_rate, n_patient_zero, \n",
    "                    mean_days_infectuous, death_prob, mean_days_to_death):\n",
    "    S = [n_pop - n_patient_zero]\n",
    "    I = [n_patient_zero]\n",
    "    R = [0]\n",
    "    T = [0]\n",
    "    D = [0]\n",
    "    tweets = [0]\n",
    "    for today in range(1,n_days):\n",
    "        yest = today - 1\n",
    "        tot = S[yest] + I[yest] + R[yest] + T[yest] + D[yest]\n",
    "        if print_daily:\n",
    "            print(f\"day={yest}, S={S[yest]}, I={I[yest]}, R={R[yest]}, T={T[yest]}, D={D[yest]}, tot={tot}\")\n",
    "        S.append(S[yest] - beta_daily_inf_rate * S[yest] * (I[yest] / n_pop))\n",
    "        I.append(I[yest] + beta_daily_inf_rate * S[yest] * (I[yest] / n_pop) - \n",
    "                   (1 / mean_days_infectuous) * I[yest])\n",
    "        R.append(R[yest] + (1 / mean_days_infectuous) * (I[yest] * (1 - death_prob)))\n",
    "        T.append(T[yest] + (1 / mean_days_infectuous) * (I[yest] * death_prob) -\n",
    "                    (1 / mean_days_to_death) * T[yest])\n",
    "        D.append(D[yest] + (1 / mean_days_to_death) * T[yest])\n",
    "        \n",
    "    \n",
    "    df = pd.DataFrame({'day':list(range(1, n_days + 1)), \n",
    "                    'S': S, 'I':I, 'R': R, 'T': T, 'D': D})\n",
    "    df_long = df.melt(id_vars=['day'], \n",
    "                      value_vars=['S', 'I', 'R', 'T', 'D'],\n",
    "                     var_name='state',\n",
    "                     value_name='count')\n",
    "    label_day = n_days - 1\n",
    "    df_label = pd.DataFrame({'day':[n_days]*5, \n",
    "                             'count':[S[label_day], I[label_day], R[label_day], T[label_day], D[label_day]],\n",
    "                             'label':['S', 'I', 'R', 'T', f'D:{round(D[n_days - 1])}']})\n",
    "    #print(df_long)\n",
    "    print((\n",
    "        ggplot(df_long, aes(x='day', y='count')) +\n",
    "        geom_point()) +\n",
    "        geom_label(data = df_label, mapping=aes(label='label'))\n",
    "        )"
   ]
  },
  {
   "cell_type": "code",
   "execution_count": 16,
   "id": "437b9b28",
   "metadata": {
    "scrolled": true
   },
   "outputs": [
    {
     "ename": "IndexError",
     "evalue": "list assignment index out of range",
     "output_type": "error",
     "traceback": [
      "\u001b[0;31m---------------------------------------------------------------------------\u001b[0m",
      "\u001b[0;31mIndexError\u001b[0m                                Traceback (most recent call last)",
      "\u001b[0;32m<ipython-input-16-d42194c08f6c>\u001b[0m in \u001b[0;36m<module>\u001b[0;34m\u001b[0m\n\u001b[1;32m      1\u001b[0m \u001b[0mfoo\u001b[0m \u001b[0;34m=\u001b[0m \u001b[0;34m[\u001b[0m\u001b[0;36m1\u001b[0m\u001b[0;34m,\u001b[0m\u001b[0;36m2\u001b[0m\u001b[0;34m]\u001b[0m\u001b[0;34m\u001b[0m\u001b[0;34m\u001b[0m\u001b[0m\n\u001b[0;32m----> 2\u001b[0;31m \u001b[0mfoo\u001b[0m\u001b[0;34m[\u001b[0m\u001b[0;36m3\u001b[0m\u001b[0;34m]\u001b[0m \u001b[0;34m=\u001b[0m \u001b[0;36m3\u001b[0m\u001b[0;34m\u001b[0m\u001b[0;34m\u001b[0m\u001b[0m\n\u001b[0m",
      "\u001b[0;31mIndexError\u001b[0m: list assignment index out of range"
     ]
    }
   ],
   "source": [
    "  "
   ]
  },
  {
   "cell_type": "code",
   "execution_count": 11,
   "id": "503b2647",
   "metadata": {},
   "outputs": [
    {
     "name": "stdout",
     "output_type": "stream",
     "text": [
      "[1, 2, 3, 4, 5, 6, 7, 8, 9]\n"
     ]
    }
   ],
   "source": []
  }
 ],
 "metadata": {
  "kernelspec": {
   "display_name": "Python 3 (ipykernel)",
   "language": "python",
   "name": "python3"
  },
  "language_info": {
   "codemirror_mode": {
    "name": "ipython",
    "version": 3
   },
   "file_extension": ".py",
   "mimetype": "text/x-python",
   "name": "python",
   "nbconvert_exporter": "python",
   "pygments_lexer": "ipython3",
   "version": "3.8.8"
  }
 },
 "nbformat": 4,
 "nbformat_minor": 5
}
