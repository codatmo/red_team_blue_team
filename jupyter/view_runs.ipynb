{
 "cells": [
  {
   "cell_type": "code",
   "execution_count": 1,
   "id": "f318bd56",
   "metadata": {},
   "outputs": [],
   "source": [
    "import os\n",
    "import json\n",
    "import re\n",
    "import pandas as pd\n",
    "import csv\n",
    "import collections\n",
    "import numpy as np\n",
    "from ipyfilechooser import FileChooser\n",
    "from plotnine import ggplot, geom_point, geom_line, aes, geom_label, coord_cartesian, themes\n",
    "from ipywidgets import interact, interactive, fixed\n",
    "import ipywidgets as widgets\n",
    "from IPython.display import display\n",
    "import random"
   ]
  },
  {
   "cell_type": "code",
   "execution_count": 2,
   "id": "957ba50f",
   "metadata": {},
   "outputs": [
    {
     "data": {
      "application/vnd.jupyter.widget-view+json": {
       "model_id": "298164d4944742a3b290901c7e329b19",
       "version_major": 2,
       "version_minor": 0
      },
      "text/plain": [
       "FileChooser(path='/home/breck/git/codatmo/red_team_blue_team/output', filename='', title='HTML(value='', layou…"
      ]
     },
     "metadata": {},
     "output_type": "display_data"
    }
   ],
   "source": [
    "# Create and display a FileChooser widget\n",
    "fc = FileChooser('/home/breck/git/codatmo/red_team_blue_team/output')\n",
    "display(fc)"
   ]
  },
  {
   "cell_type": "code",
   "execution_count": 3,
   "id": "0a6671e9",
   "metadata": {},
   "outputs": [
    {
     "data": {
      "application/vnd.jupyter.widget-view+json": {
       "model_id": "fc7a957905e44260a5200e5faa52a35e",
       "version_major": 2,
       "version_minor": 0
      },
      "text/plain": [
       "interactive(children=(IntSlider(value=10, description='num_samples', max=1000, min=10, step=10), Checkbox(valu…"
      ]
     },
     "metadata": {},
     "output_type": "display_data"
    }
   ],
   "source": [
    "#@interact(num_samples=widgets.IntSlider(min=10, max=1000, step=10, value=10),\n",
    "#          verbose = False)\n",
    "\n",
    "\n",
    "def load_stan_run(num_samples, verbose):\n",
    "    config = json.load(open(fc.selected))\n",
    "    #print(config)\n",
    "\n",
    "    stan_files = [f\"{fc.selected_path}/{f}\" for f in os.listdir(fc.selected_path) if f.endswith('csv')]\n",
    "\n",
    "    fit = pd.DataFrame()\n",
    "    last_index = 0\n",
    "    for stan_csv in stan_files:\n",
    "        if verbose:\n",
    "            print(stan_csv)\n",
    "        chain = pd.read_csv(stan_files[0], nrows=num_samples, comment='#')\n",
    "        chain['index'] = range(last_index, last_index + len(chain))\n",
    "        last_index = last_index + len(chain)\n",
    "        fit = fit.append(chain)\n",
    "    if verbose:\n",
    "        print(fit.shape)\n",
    "    RunData = collections.namedtuple('RunData', 'config fit')\n",
    "    rd = RunData(config, fit)\n",
    "    return(rd)\n",
    "        \n",
    "rd1 = interactive(load_stan_run, {'manual': True}, num_samples=widgets.IntSlider(min=10, max=1000, step=10, value=10),\n",
    "          verbose = False)\n",
    "\n",
    "display(rd1)\n"
   ]
  },
  {
   "cell_type": "code",
   "execution_count": 24,
   "id": "22624744",
   "metadata": {},
   "outputs": [],
   "source": [
    "def graph_coefs(plot, rd, num_samples):\n",
    "    fit = rd.fit\n",
    "    config = rd.config\n",
    "    draws = fit.sample(n=num_samples)\n",
    "    variables = []\n",
    "    values = []\n",
    "    draw = []\n",
    "    vars_2_report = ['iDay1_est', 'beta', 'gamma', 'deathRate', 'lambda_twitter']\n",
    "    for value in vars_2_report:\n",
    "        variables.extend([value] * len(draws))\n",
    "        values.extend(draws[value])\n",
    "        draw.extend(draws['index'])\n",
    "\n",
    "    df = pd.DataFrame({'variable' :  variables,\n",
    "                      'value' : values,\n",
    "                      'index' : draw})\n",
    "    df['variable'] = pd.Categorical(df['variable'], categories=vars_2_report, \n",
    "                                    ordered=True)\n",
    "    return(plot + geom_line(data=df, \n",
    "                     mapping=(aes(x='variable', y='value', group='index')))\n",
    "          )\n",
    "\n",
    "def graph_predictions(plot, rd, num_samples):\n",
    "    fit = rd.fit\n",
    "    config = rd.config\n",
    "    sample = fit.sample(n=num_samples)\n",
    "    time = []\n",
    "    draws = []\n",
    "    values = []\n",
    "    variables = []\n",
    "    vars_2_report = ['pred_tweets', 'pred_deaths']\n",
    "    for var in vars_2_report:\n",
    "        for t in range(1,292):\n",
    "            values.extend(sample[f'{var}.{t}'])\n",
    "            time.extend([t]*num_samples)\n",
    "            variables.extend([var]*num_samples)\n",
    "            draws.extend(range(0,num_samples))\n",
    "    df = pd.DataFrame({'variable' : variables,\n",
    "                       'draws' :  draws,\n",
    "                       'value' : values,\n",
    "                       'time' : time})\n",
    "    plot = plot + geom_line(data=df[df['variable'] == 'pred_deaths'], \n",
    "                    mapping=(aes(x='time', y='value', group='draws')))\n",
    "    plot = plot + geom_line(data=df[df['variable'] == 'pred_tweets'], \n",
    "              mapping=(aes(x='time', y='value', group='draws')))\n",
    "    return(plot)\n",
    "\n",
    "    "
   ]
  },
  {
   "cell_type": "code",
   "execution_count": 27,
   "id": "d5a88e7f",
   "metadata": {
    "scrolled": true
   },
   "outputs": [
    {
     "data": {
      "application/vnd.jupyter.widget-view+json": {
       "model_id": "8adfdc05fdfd4553a5d86c5795390487",
       "version_major": 2,
       "version_minor": 0
      },
      "text/plain": [
       "interactive(children=(IntSlider(value=200000, description='ylim', max=100000000, min=1, step=1000000), Checkbo…"
      ]
     },
     "metadata": {},
     "output_type": "display_data"
    }
   ],
   "source": [
    "@interact(run_d = fixed(rd1.result), ylim=widgets.IntSlider(min=1, max=100000000, step=1000000, value=200000),\n",
    "          add_sim = False,\n",
    "          add_coefs = True,\n",
    "          add_preds = True)\n",
    "def graph(run_d, ylim, add_sim, add_coefs, add_preds):\n",
    "   plot = (ggplot())\n",
    "   if add_sim:\n",
    "      (config, plot)\n",
    "   if add_coefs:\n",
    "      plot = graph_coefs(plot=plot, rd=run_d, num_samples=10)\n",
    "   if add_preds:\n",
    "      plot = graph_predictions(plot=plot, rd=run_d, num_samples=10 )\n",
    "   print(plot)\n",
    "           \n",
    "      #  geom_point(size=0.25) +\n",
    "      #  geom_line(data=, mapping=(aes(x='day', y='count')), color='red') +\n",
    "      #  geom_line(data=df_long_brazil_tweets, mapping=(aes(x='day', y='count')), color='blue') +\n",
    "      # geom_label(data = df_label, mapping=aes(label='label')) +\n",
    "      \n",
    "        \n",
    "       # ))\n",
    "      #coord_cartesian(ylim=(0, max_y),xlim=(0,n_days + 50))\n",
    "    #graph_sim/graph_data\n",
    "    #graph_ode\n",
    "    #graph_predictions\n",
    "    "
   ]
  },
  {
   "cell_type": "code",
   "execution_count": null,
   "id": "0435ebea",
   "metadata": {},
   "outputs": [],
   "source": []
  },
  {
   "cell_type": "code",
   "execution_count": 22,
   "id": "c107b946",
   "metadata": {},
   "outputs": [
    {
     "name": "stdout",
     "output_type": "stream",
     "text": [
      "Index(['lp__', 'accept_stat__', 'stepsize__', 'treedepth__', 'n_leapfrog__',\n",
      "       'divergent__', 'energy__', 'gamma', 'beta', 'deathRate', 'iDay1_est',\n",
      "       'lambda_twitter', 'normal_tweets_sd', 'normal_deaths_sd',\n",
      "       'iDay_est_exp_rate', 'compartmentStartValues.1',\n",
      "       'compartmentStartValues.2', 'compartmentStartValues.3',\n",
      "       'compartmentStartValues.4', 'y.1.1', 'y.2.1', 'y.3.1', 'y.4.1', 'y.5.1',\n",
      "       'y.6.1', 'y.7.1', 'y.8.1', 'y.9.1', 'y.10.1', 'y.11.1'],\n",
      "      dtype='object')\n"
     ]
    }
   ],
   "source": [
    "print(rd1.result.fit.columns[0:30])"
   ]
  },
  {
   "cell_type": "code",
   "execution_count": null,
   "id": "a2eba23a",
   "metadata": {},
   "outputs": [],
   "source": [
    "#' Graph internal state counts for simulation and corresponding tweets for a run\n",
    "#' of the runEval framework. Returns a ggplot geom_point element with x = days\n",
    "#' y = count.\n",
    "#' @param data_df one row of the run_df with simulation data added\n",
    "#' @param hide_s Boolean to control whether to hide the s or susceptible counts\n",
    "def graph_sim(config, plot) {\n",
    "    if ('t' in config) { \n",
    "      sim_df = data.frame(day = 1:data_df$n_days, \n",
    "                        tweets = unlist(data_df$tweets), \n",
    "                        s = unlist(data_df$s),\n",
    "                        i = unlist(data_df$i),\n",
    "                        r = unlist(data_df$r),\n",
    "                        t = unlist(data_df$t),\n",
    "                        d = unlist(data_df$d))\n",
    "\n",
    "      compartment_names <- c('s', 'i', 'r', 't', 'd')\n",
    "    }\n",
    "    else {\n",
    "       sim_df = data.frame(day = 1:data_df$n_days, \n",
    "                        tweets = unlist(data_df$tweets), \n",
    "                        s = unlist(data_df$s),\n",
    "                        i = unlist(data_df$i),\n",
    "                        r = unlist(data_df$r),\n",
    "                        d = unlist(data_df$d))\n",
    "       compartment_names <- c('s', 'i', 'r', 'd')\n",
    "    }\n",
    "    if (hide_s) {\n",
    "      compartment_names <- compartment_names[-1]\n",
    "    }\n",
    "    i_mean = mean(sim_df$i)\n",
    "    gt_mean_days = sim_df[sim_df$i >= i_mean,]$day\n",
    "    display_day = gt_mean_days[1]\n",
    "    sim_long_df = gather(data = sim_df, key = \"compartment_sim\", value = \"count\",\n",
    "                         all_of(c('tweets', compartment_names)))\n",
    "    return(plot + \n",
    "             geom_point(data = sim_long_df, aes(y = count, \n",
    "                                                color = compartment_sim),\n",
    "                      size = .5) + \n",
    "             geom_label_repel(data = subset(sim_long_df, \n",
    "                                            day == display_day), \n",
    "                              aes(label = compartment_sim,\n",
    "                                  color = compartment_sim)))\n",
    "    \n",
    "}\n"
   ]
  }
 ],
 "metadata": {
  "kernelspec": {
   "display_name": "Python 3 (ipykernel)",
   "language": "python",
   "name": "python3"
  },
  "language_info": {
   "codemirror_mode": {
    "name": "ipython",
    "version": 3
   },
   "file_extension": ".py",
   "mimetype": "text/x-python",
   "name": "python",
   "nbconvert_exporter": "python",
   "pygments_lexer": "ipython3",
   "version": "3.8.8"
  }
 },
 "nbformat": 4,
 "nbformat_minor": 5
}
